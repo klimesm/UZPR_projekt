{
 "cells": [
  {
   "cell_type": "code",
   "execution_count": 14,
   "id": "d57601a2-fb70-4de6-9f6f-18cf50ed2bf0",
   "metadata": {},
   "outputs": [],
   "source": [
    "import urllib.request\n",
    "import zipfile\n",
    "import os"
   ]
  },
  {
   "cell_type": "code",
   "execution_count": 16,
   "id": "baa83871-2dd2-462b-acd2-bddbc4834eec",
   "metadata": {},
   "outputs": [
    {
     "name": "stdout",
     "output_type": "stream",
     "text": [
      "Soubor data250.zip byl úspěšně stažen.\n"
     ]
    }
   ],
   "source": [
    "# Source URL\n",
    "url = \"https://openzu.cuzk.cz/opendata/Data250/epsg-5514/data250.zip\"\n",
    "\n",
    "# Cíl, kam se ZIP soubor uloží\n",
    "zip_filename = \"data250.zip\"\n",
    "\n",
    "# Stáhni ZIP soubor\n",
    "urllib.request.urlretrieve(url, zip_filename)\n",
    "print(f\"Soubor {zip_filename} byl úspěšně stažen.\")"
   ]
  },
  {
   "cell_type": "code",
   "execution_count": 17,
   "id": "61b27177-33d3-4ff8-8356-5cb7014a7854",
   "metadata": {},
   "outputs": [
    {
     "name": "stdout",
     "output_type": "stream",
     "text": [
      "Soubor data250.zip byl úspěšně rozbalen do složky extracted_files.\n",
      "Nalezené .shp soubory: ['AirfldA.shp', 'AirfldC.shp', 'AirfldP.shp', 'BuildP.shp', 'BuiltupA.shp', 'BuiltupP.shp', 'CtowerP.shp', 'DamC.shp', 'DamL.shp', 'ElevL.shp', 'ElevP.shp', 'ExtractP.shp', 'FerryC.shp', 'FerryL.shp', 'GName5A.shp', 'GName5AT.shp', 'GName6A.shp', 'GName6AT.shp', 'GName7A.shp', 'GName7AT.shp', 'HarborP.shp', 'HeliP.shp', 'IndprodL.shp', 'IndprodP.shp', 'IntercC.shp', 'IslandA.shp', 'LakeresA.shp', 'LandmrkP.shp', 'LevelcC.shp', 'ParkA.shp', 'PhysL.shp', 'PhysP.shp', 'PolbndDA.shp', 'PolbndDistDA.shp', 'PolbndL.shp', 'PolbndMunDA.shp', 'PolbndP.shp', 'PolbndRegDA.shp', 'PowerL.shp', 'PowerP.shp', 'RailrdC.shp', 'RailrdL.shp', 'RapidsC.shp', 'RestC.shp', 'RoadL.shp', 'RunwayL.shp', 'SpringC.shp', 'SpringP.shp', 'SwampA.shp', 'TowerP.shp', 'VegA.shp', 'WatrcrsA.shp', 'WatrcrsL.shp']\n"
     ]
    }
   ],
   "source": [
    "# Cíl pro extrahování souborů\n",
    "extract_folder = \"extracted_files\"\n",
    "os.makedirs(extract_folder, exist_ok=True)\n",
    "\n",
    "# Rozbalení ZIP souboru\n",
    "with zipfile.ZipFile(zip_filename, 'r') as zip_ref:\n",
    "    zip_ref.extractall(extract_folder)\n",
    "    print(f\"Soubor {zip_filename} byl úspěšně rozbalen do složky {extract_folder}.\")\n",
    "\n",
    "# Prohledání extrahované složky pro .shp soubor\n",
    "shp_files = [f for f in os.listdir(extract_folder) if f.endswith('.shp')]\n",
    "\n",
    "# Výpis nalezených .shp souborů\n",
    "if shp_files:\n",
    "    print(f\"Nalezené .shp soubory: {shp_files}\")\n",
    "else:\n",
    "    print(\"Nebyl nalezen žádný .shp soubor.\")"
   ]
  },
  {
   "cell_type": "code",
   "execution_count": null,
   "id": "c0c0de68-011b-4289-b05c-31914746bade",
   "metadata": {},
   "outputs": [],
   "source": []
  },
  {
   "cell_type": "code",
   "execution_count": 5,
   "id": "8cc1feb23ce1315c",
   "metadata": {
    "ExecuteTime": {
     "end_time": "2024-11-27T13:16:41.396540600Z",
     "start_time": "2024-11-27T13:16:41.033070100Z"
    },
    "collapsed": false,
    "jupyter": {
     "outputs_hidden": false
    }
   },
   "outputs": [
    {
     "ename": "DriverError",
     "evalue": "Failed to open dataset (flags=68): data250/PolbndMunDA.shp",
     "output_type": "error",
     "traceback": [
      "\u001b[1;31m---------------------------------------------------------------------------\u001b[0m",
      "\u001b[1;31mCPLE_OpenFailedError\u001b[0m                      Traceback (most recent call last)",
      "File \u001b[1;32mfiona\\\\ogrext.pyx:130\u001b[0m, in \u001b[0;36mfiona.ogrext.gdal_open_vector\u001b[1;34m()\u001b[0m\n",
      "File \u001b[1;32mfiona\\\\ogrext.pyx:134\u001b[0m, in \u001b[0;36mfiona.ogrext.gdal_open_vector\u001b[1;34m()\u001b[0m\n",
      "File \u001b[1;32mfiona\\\\_err.pyx:375\u001b[0m, in \u001b[0;36mfiona._err.StackChecker.exc_wrap_pointer\u001b[1;34m()\u001b[0m\n",
      "\u001b[1;31mCPLE_OpenFailedError\u001b[0m: data250/PolbndMunDA.shp: No such file or directory",
      "\nThe above exception was the direct cause of the following exception:\n",
      "\u001b[1;31mDriverError\u001b[0m                               Traceback (most recent call last)",
      "Cell \u001b[1;32mIn[5], line 4\u001b[0m\n\u001b[0;32m      1\u001b[0m \u001b[38;5;28;01mimport\u001b[39;00m \u001b[38;5;21;01mfiona\u001b[39;00m\n\u001b[0;32m      3\u001b[0m nuts_name \u001b[38;5;241m=\u001b[39m \u001b[38;5;124m\"\u001b[39m\u001b[38;5;124mKatovice\u001b[39m\u001b[38;5;124m\"\u001b[39m\n\u001b[1;32m----> 4\u001b[0m \u001b[38;5;28;01mwith\u001b[39;00m \u001b[43mfiona\u001b[49m\u001b[38;5;241;43m.\u001b[39;49m\u001b[43mopen\u001b[49m\u001b[43m(\u001b[49m\u001b[38;5;124;43m'\u001b[39;49m\u001b[38;5;124;43mdata250/PolbndMunDA.shp\u001b[39;49m\u001b[38;5;124;43m'\u001b[39;49m\u001b[43m)\u001b[49m \u001b[38;5;28;01mas\u001b[39;00m nuts:  \n\u001b[0;32m      5\u001b[0m     nuts_crs \u001b[38;5;241m=\u001b[39m nuts\u001b[38;5;241m.\u001b[39mcrs\n\u001b[0;32m      6\u001b[0m     \u001b[38;5;28;01mfor\u001b[39;00m feature \u001b[38;5;129;01min\u001b[39;00m nuts:\n",
      "File \u001b[1;32m~\\venv-uzpr\\Lib\\site-packages\\fiona\\env.py:457\u001b[0m, in \u001b[0;36mensure_env_with_credentials.<locals>.wrapper\u001b[1;34m(*args, **kwds)\u001b[0m\n\u001b[0;32m    454\u001b[0m     session \u001b[38;5;241m=\u001b[39m DummySession()\n\u001b[0;32m    456\u001b[0m \u001b[38;5;28;01mwith\u001b[39;00m env_ctor(session\u001b[38;5;241m=\u001b[39msession):\n\u001b[1;32m--> 457\u001b[0m     \u001b[38;5;28;01mreturn\u001b[39;00m \u001b[43mf\u001b[49m\u001b[43m(\u001b[49m\u001b[38;5;241;43m*\u001b[39;49m\u001b[43margs\u001b[49m\u001b[43m,\u001b[49m\u001b[43m \u001b[49m\u001b[38;5;241;43m*\u001b[39;49m\u001b[38;5;241;43m*\u001b[39;49m\u001b[43mkwds\u001b[49m\u001b[43m)\u001b[49m\n",
      "File \u001b[1;32m~\\venv-uzpr\\Lib\\site-packages\\fiona\\__init__.py:355\u001b[0m, in \u001b[0;36mopen\u001b[1;34m(fp, mode, driver, schema, crs, encoding, layer, vfs, enabled_drivers, crs_wkt, ignore_fields, ignore_geometry, include_fields, wkt_version, allow_unsupported_drivers, opener, **kwargs)\u001b[0m\n\u001b[0;32m    352\u001b[0m         path \u001b[38;5;241m=\u001b[39m _parse_path(fp)\n\u001b[0;32m    354\u001b[0m \u001b[38;5;28;01mif\u001b[39;00m mode \u001b[38;5;129;01min\u001b[39;00m (\u001b[38;5;124m\"\u001b[39m\u001b[38;5;124ma\u001b[39m\u001b[38;5;124m\"\u001b[39m, \u001b[38;5;124m\"\u001b[39m\u001b[38;5;124mr\u001b[39m\u001b[38;5;124m\"\u001b[39m):\n\u001b[1;32m--> 355\u001b[0m     colxn \u001b[38;5;241m=\u001b[39m \u001b[43mCollection\u001b[49m\u001b[43m(\u001b[49m\n\u001b[0;32m    356\u001b[0m \u001b[43m        \u001b[49m\u001b[43mpath\u001b[49m\u001b[43m,\u001b[49m\n\u001b[0;32m    357\u001b[0m \u001b[43m        \u001b[49m\u001b[43mmode\u001b[49m\u001b[43m,\u001b[49m\n\u001b[0;32m    358\u001b[0m \u001b[43m        \u001b[49m\u001b[43mdriver\u001b[49m\u001b[38;5;241;43m=\u001b[39;49m\u001b[43mdriver\u001b[49m\u001b[43m,\u001b[49m\n\u001b[0;32m    359\u001b[0m \u001b[43m        \u001b[49m\u001b[43mencoding\u001b[49m\u001b[38;5;241;43m=\u001b[39;49m\u001b[43mencoding\u001b[49m\u001b[43m,\u001b[49m\n\u001b[0;32m    360\u001b[0m \u001b[43m        \u001b[49m\u001b[43mlayer\u001b[49m\u001b[38;5;241;43m=\u001b[39;49m\u001b[43mlayer\u001b[49m\u001b[43m,\u001b[49m\n\u001b[0;32m    361\u001b[0m \u001b[43m        \u001b[49m\u001b[43mignore_fields\u001b[49m\u001b[38;5;241;43m=\u001b[39;49m\u001b[43mignore_fields\u001b[49m\u001b[43m,\u001b[49m\n\u001b[0;32m    362\u001b[0m \u001b[43m        \u001b[49m\u001b[43minclude_fields\u001b[49m\u001b[38;5;241;43m=\u001b[39;49m\u001b[43minclude_fields\u001b[49m\u001b[43m,\u001b[49m\n\u001b[0;32m    363\u001b[0m \u001b[43m        \u001b[49m\u001b[43mignore_geometry\u001b[49m\u001b[38;5;241;43m=\u001b[39;49m\u001b[43mignore_geometry\u001b[49m\u001b[43m,\u001b[49m\n\u001b[0;32m    364\u001b[0m \u001b[43m        \u001b[49m\u001b[43mwkt_version\u001b[49m\u001b[38;5;241;43m=\u001b[39;49m\u001b[43mwkt_version\u001b[49m\u001b[43m,\u001b[49m\n\u001b[0;32m    365\u001b[0m \u001b[43m        \u001b[49m\u001b[43menabled_drivers\u001b[49m\u001b[38;5;241;43m=\u001b[39;49m\u001b[43menabled_drivers\u001b[49m\u001b[43m,\u001b[49m\n\u001b[0;32m    366\u001b[0m \u001b[43m        \u001b[49m\u001b[43mallow_unsupported_drivers\u001b[49m\u001b[38;5;241;43m=\u001b[39;49m\u001b[43mallow_unsupported_drivers\u001b[49m\u001b[43m,\u001b[49m\n\u001b[0;32m    367\u001b[0m \u001b[43m        \u001b[49m\u001b[38;5;241;43m*\u001b[39;49m\u001b[38;5;241;43m*\u001b[39;49m\u001b[43mkwargs\u001b[49m\n\u001b[0;32m    368\u001b[0m \u001b[43m    \u001b[49m\u001b[43m)\u001b[49m\n\u001b[0;32m    369\u001b[0m \u001b[38;5;28;01melif\u001b[39;00m mode \u001b[38;5;241m==\u001b[39m \u001b[38;5;124m\"\u001b[39m\u001b[38;5;124mw\u001b[39m\u001b[38;5;124m\"\u001b[39m:\n\u001b[0;32m    370\u001b[0m     colxn \u001b[38;5;241m=\u001b[39m Collection(\n\u001b[0;32m    371\u001b[0m         path,\n\u001b[0;32m    372\u001b[0m         mode,\n\u001b[1;32m   (...)\u001b[0m\n\u001b[0;32m    385\u001b[0m         \u001b[38;5;241m*\u001b[39m\u001b[38;5;241m*\u001b[39mkwargs\n\u001b[0;32m    386\u001b[0m     )\n",
      "File \u001b[1;32m~\\venv-uzpr\\Lib\\site-packages\\fiona\\collection.py:226\u001b[0m, in \u001b[0;36mCollection.__init__\u001b[1;34m(self, path, mode, driver, schema, crs, encoding, layer, vsi, archive, enabled_drivers, crs_wkt, ignore_fields, ignore_geometry, include_fields, wkt_version, allow_unsupported_drivers, **kwargs)\u001b[0m\n\u001b[0;32m    224\u001b[0m \u001b[38;5;28;01mif\u001b[39;00m \u001b[38;5;28mself\u001b[39m\u001b[38;5;241m.\u001b[39mmode \u001b[38;5;241m==\u001b[39m \u001b[38;5;124m\"\u001b[39m\u001b[38;5;124mr\u001b[39m\u001b[38;5;124m\"\u001b[39m:\n\u001b[0;32m    225\u001b[0m     \u001b[38;5;28mself\u001b[39m\u001b[38;5;241m.\u001b[39msession \u001b[38;5;241m=\u001b[39m Session()\n\u001b[1;32m--> 226\u001b[0m     \u001b[38;5;28;43mself\u001b[39;49m\u001b[38;5;241;43m.\u001b[39;49m\u001b[43msession\u001b[49m\u001b[38;5;241;43m.\u001b[39;49m\u001b[43mstart\u001b[49m\u001b[43m(\u001b[49m\u001b[38;5;28;43mself\u001b[39;49m\u001b[43m,\u001b[49m\u001b[43m \u001b[49m\u001b[38;5;241;43m*\u001b[39;49m\u001b[38;5;241;43m*\u001b[39;49m\u001b[43mkwargs\u001b[49m\u001b[43m)\u001b[49m\n\u001b[0;32m    227\u001b[0m \u001b[38;5;28;01melif\u001b[39;00m \u001b[38;5;28mself\u001b[39m\u001b[38;5;241m.\u001b[39mmode \u001b[38;5;129;01min\u001b[39;00m (\u001b[38;5;124m\"\u001b[39m\u001b[38;5;124ma\u001b[39m\u001b[38;5;124m\"\u001b[39m, \u001b[38;5;124m\"\u001b[39m\u001b[38;5;124mw\u001b[39m\u001b[38;5;124m\"\u001b[39m):\n\u001b[0;32m    228\u001b[0m     \u001b[38;5;28mself\u001b[39m\u001b[38;5;241m.\u001b[39msession \u001b[38;5;241m=\u001b[39m WritingSession()\n",
      "File \u001b[1;32mfiona\\\\ogrext.pyx:876\u001b[0m, in \u001b[0;36mfiona.ogrext.Session.start\u001b[1;34m()\u001b[0m\n",
      "File \u001b[1;32mfiona\\\\ogrext.pyx:136\u001b[0m, in \u001b[0;36mfiona.ogrext.gdal_open_vector\u001b[1;34m()\u001b[0m\n",
      "\u001b[1;31mDriverError\u001b[0m: Failed to open dataset (flags=68): data250/PolbndMunDA.shp"
     ]
    }
   ],
   "source": [
    "import fiona\n",
    "\n",
    "nuts_name = \"Katovice\"\n",
    "with fiona.open('data250/PolbndMunDA.shp') as nuts:  \n",
    "    nuts_crs = nuts.crs\n",
    "    for feature in nuts:\n",
    "        if feature[\"properties\"][\"NAMN\"] == nuts_name:\n",
    "            aoi = feature[\"geometry\"]\n",
    "            break\n",
    "            \n",
    "nuts_crs, len(aoi.coordinates[0])"
   ]
  },
  {
   "cell_type": "code",
   "execution_count": 4,
   "id": "3047f5798b2fb27a",
   "metadata": {
    "ExecuteTime": {
     "end_time": "2024-11-27T13:17:06.591367Z",
     "start_time": "2024-11-27T13:17:04.795656500Z"
    },
    "collapsed": false,
    "jupyter": {
     "outputs_hidden": false
    }
   },
   "outputs": [
    {
     "ename": "NameError",
     "evalue": "name 'aoi' is not defined",
     "output_type": "error",
     "traceback": [
      "\u001b[1;31m---------------------------------------------------------------------------\u001b[0m",
      "\u001b[1;31mNameError\u001b[0m                                 Traceback (most recent call last)",
      "Cell \u001b[1;32mIn[4], line 2\u001b[0m\n\u001b[0;32m      1\u001b[0m \u001b[38;5;28;01mimport\u001b[39;00m \u001b[38;5;21;01mgeopandas\u001b[39;00m \u001b[38;5;28;01mas\u001b[39;00m \u001b[38;5;21;01mgpd\u001b[39;00m\n\u001b[1;32m----> 2\u001b[0m aoi_g \u001b[38;5;241m=\u001b[39m gpd\u001b[38;5;241m.\u001b[39mGeoSeries([\u001b[43maoi\u001b[49m])\n\u001b[0;32m      3\u001b[0m aoi_g\u001b[38;5;241m.\u001b[39mboundary\u001b[38;5;241m.\u001b[39mplot()\n",
      "\u001b[1;31mNameError\u001b[0m: name 'aoi' is not defined"
     ]
    }
   ],
   "source": [
    "import geopandas as gpd\n",
    "aoi_g = gpd.GeoSeries([aoi])\n",
    "aoi_g.boundary.plot()"
   ]
  },
  {
   "cell_type": "code",
   "execution_count": 3,
   "id": "188c3df648d5ef91",
   "metadata": {
    "collapsed": false,
    "jupyter": {
     "outputs_hidden": false
    }
   },
   "outputs": [
    {
     "ename": "NameError",
     "evalue": "name 'aoi_g' is not defined",
     "output_type": "error",
     "traceback": [
      "\u001b[1;31m---------------------------------------------------------------------------\u001b[0m",
      "\u001b[1;31mNameError\u001b[0m                                 Traceback (most recent call last)",
      "Cell \u001b[1;32mIn[3], line 1\u001b[0m\n\u001b[1;32m----> 1\u001b[0m aoi_map \u001b[38;5;241m=\u001b[39m \u001b[43maoi_g\u001b[49m\u001b[38;5;241m.\u001b[39mset_crs(epsg\u001b[38;5;241m=\u001b[39m\u001b[38;5;241m5514\u001b[39m)\n\u001b[0;32m      2\u001b[0m aoi_map\u001b[38;5;241m.\u001b[39mexplore()\n",
      "\u001b[1;31mNameError\u001b[0m: name 'aoi_g' is not defined"
     ]
    }
   ],
   "source": [
    "aoi_map = aoi_g.set_crs(epsg=5514)\n",
    "aoi_map.explore()"
   ]
  }
 ],
 "metadata": {
  "kernelspec": {
   "display_name": "Python 3 (ipykernel)",
   "language": "python",
   "name": "python3"
  },
  "language_info": {
   "codemirror_mode": {
    "name": "ipython",
    "version": 3
   },
   "file_extension": ".py",
   "mimetype": "text/x-python",
   "name": "python",
   "nbconvert_exporter": "python",
   "pygments_lexer": "ipython3",
   "version": "3.11.9"
  }
 },
 "nbformat": 4,
 "nbformat_minor": 5
}
